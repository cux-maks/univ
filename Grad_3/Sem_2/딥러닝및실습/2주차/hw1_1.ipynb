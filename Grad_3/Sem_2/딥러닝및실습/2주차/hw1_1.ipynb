{
 "cells": [
  {
   "cell_type": "markdown",
   "id": "618ec66c",
   "metadata": {},
   "source": [
    "# _02_tensors"
   ]
  },
  {
   "cell_type": "markdown",
   "id": "ad0732d6",
   "metadata": {},
   "source": [
    "## a_tensor_initialization.py"
   ]
  },
  {
   "cell_type": "code",
   "execution_count": 1,
   "id": "e6438e72",
   "metadata": {},
   "outputs": [],
   "source": [
    "import torch # torch 라이브러리 import"
   ]
  },
  {
   "cell_type": "code",
   "execution_count": 2,
   "id": "d3c7c462",
   "metadata": {},
   "outputs": [
    {
     "name": "stdout",
     "output_type": "stream",
     "text": [
      "torch.float32\n",
      "cpu\n",
      "False\n",
      "torch.Size([3])\n",
      "torch.Size([3])\n",
      "################################################## 1\n"
     ]
    }
   ],
   "source": [
    "# torch.Tensor class\n",
    "\n",
    "t1 = torch.Tensor([1, 2, 3], device = 'cpu')\n",
    "print(t1.dtype) # torch.float32: Tensor로 선언할 경우, 기본 타입은 float32임.\n",
    "print(t1.device) # cpu\n",
    "print(t1.requires_grad) # False\n",
    "print(t1.size()) # torch.Size([3])\n",
    "print(t1.shape) # torch.Size([3])\n",
    "\n",
    "t1_cpu = t1.cpu()\n",
    "\n",
    "print(\"#\" * 50, 1)"
   ]
  },
  {
   "cell_type": "code",
   "execution_count": 3,
   "id": "b6cf95f2",
   "metadata": {},
   "outputs": [
    {
     "name": "stdout",
     "output_type": "stream",
     "text": [
      "torch.int64\n",
      "cpu\n",
      "False\n",
      "torch.Size([3])\n",
      "torch.Size([3])\n",
      "################################################## 2\n"
     ]
    }
   ],
   "source": [
    "# torch.tensor function\n",
    "\n",
    "t2 = torch.tensor([1, 2, 3], device = 'cpu')\n",
    "print(t2.dtype) # torch.int64: tensor로 호출한 경우, 자료형은 int64임.\n",
    "print(t2.device) # cpu\n",
    "print(t2.requires_grad) # False\n",
    "print(t2.size()) # torch.Size([3])\n",
    "print(t2.shape) # torch.Size([3])\n",
    "\n",
    "t2_cpu = t2.cpu()\n",
    "\n",
    "print(\"#\" * 50, 2)"
   ]
  },
  {
   "cell_type": "code",
   "execution_count": 4,
   "id": "21be0f45",
   "metadata": {},
   "outputs": [
    {
     "name": "stdout",
     "output_type": "stream",
     "text": [
      "tensor(1)\n",
      "torch.Size([]) 0\n"
     ]
    }
   ],
   "source": [
    "a1 = torch.tensor(1) # 대괄호 없이 호출할 경우\n",
    "print(a1)\n",
    "print(a1.shape, a1.ndim) # dim = 0이다"
   ]
  },
  {
   "cell_type": "code",
   "execution_count": 5,
   "id": "79705924",
   "metadata": {},
   "outputs": [
    {
     "name": "stdout",
     "output_type": "stream",
     "text": [
      "tensor([1])\n",
      "torch.Size([1]) 1\n"
     ]
    }
   ],
   "source": [
    "a2 = torch.tensor([1]) # 대괄호가 한겹 있을 경우\n",
    "print(a2)\n",
    "print(a2.shape, a2.ndim) # dim = 1이다"
   ]
  },
  {
   "cell_type": "code",
   "execution_count": 6,
   "id": "3d32e8cb",
   "metadata": {},
   "outputs": [
    {
     "name": "stdout",
     "output_type": "stream",
     "text": [
      "tensor([1, 2, 3, 4, 5])\n",
      "torch.Size([5]) 1\n"
     ]
    }
   ],
   "source": [
    "a3 = torch.tensor([1, 2, 3, 4, 5]) # 대괄호 한 겹에 원소가 5개인 경우\n",
    "print(a3)\n",
    "print(a3.shape, a3.ndim) # shape는 torch.Size([5])가 나온다."
   ]
  },
  {
   "cell_type": "code",
   "execution_count": 7,
   "id": "2ae960b8",
   "metadata": {},
   "outputs": [
    {
     "name": "stdout",
     "output_type": "stream",
     "text": [
      "tensor([[1],\n",
      "        [2],\n",
      "        [3],\n",
      "        [4],\n",
      "        [5]])\n",
      "torch.Size([5, 1]) 2\n"
     ]
    }
   ],
   "source": [
    "a4 = torch.tensor([[1], [2], [3], [4], [5]]) # 대괄호가 두 겹인 경우\n",
    "print(a4)\n",
    "print(a4.shape, a4.ndim) # shape는 torch.Size([5, 1]), dim = 2가 된다.\n",
    "\n",
    "# 대괄호가 겹쳐진 수에 따라 dim이 결정되고,\n",
    "# 가장 바깥쪽 대괄호부터 원소의 개수가 shape의 결과가 된다."
   ]
  },
  {
   "cell_type": "code",
   "execution_count": 8,
   "id": "16ca0dc3",
   "metadata": {},
   "outputs": [
    {
     "name": "stdout",
     "output_type": "stream",
     "text": [
      "tensor([[1, 2],\n",
      "        [3, 4],\n",
      "        [5, 6]])\n",
      "torch.Size([3, 2]) 2\n"
     ]
    }
   ],
   "source": [
    "a5 = torch.tensor([[1, 2], [3, 4], [5, 6]]) \n",
    "print(a5)\n",
    "print(a5.shape, a5.ndim) # shape은 torch.Size([3, 2]), dim = 2가 된다."
   ]
  },
  {
   "cell_type": "code",
   "execution_count": 9,
   "id": "7bcd56a9",
   "metadata": {},
   "outputs": [
    {
     "name": "stdout",
     "output_type": "stream",
     "text": [
      "tensor([[[1],\n",
      "         [2]],\n",
      "\n",
      "        [[3],\n",
      "         [4]],\n",
      "\n",
      "        [[5],\n",
      "         [6]]])\n",
      "torch.Size([3, 2, 1]) 3\n"
     ]
    }
   ],
   "source": [
    "a6 = torch.tensor([[[1], [2]], [[3], [4]], [[5], [6]]])\n",
    "print(a6)\n",
    "print(a6.shape, a6.ndim) # shape은 torch.Size([3, 2, 1]), dim = 3이 된다."
   ]
  },
  {
   "cell_type": "code",
   "execution_count": 10,
   "id": "f7df9b8c",
   "metadata": {},
   "outputs": [
    {
     "name": "stdout",
     "output_type": "stream",
     "text": [
      "tensor([[[[1],\n",
      "          [2]]],\n",
      "\n",
      "\n",
      "        [[[3],\n",
      "          [4]]],\n",
      "\n",
      "\n",
      "        [[[5],\n",
      "          [6]]]])\n",
      "torch.Size([3, 1, 2, 1]) 4\n"
     ]
    }
   ],
   "source": [
    "a7 = torch.tensor([[[[1], [2]]], [[[3], [4]]], [[[5], [6]]]])\n",
    "print(a7)\n",
    "print(a7.shape, a7.ndim) # shape은 torch.Size([3, 1, 2, 1]), dim = 4가 된다."
   ]
  },
  {
   "cell_type": "code",
   "execution_count": 11,
   "id": "f3e72517",
   "metadata": {},
   "outputs": [
    {
     "name": "stdout",
     "output_type": "stream",
     "text": [
      "tensor([[[[1, 2, 3],\n",
      "          [2, 3, 4]]],\n",
      "\n",
      "\n",
      "        [[[3, 1, 1],\n",
      "          [4, 4, 5]]],\n",
      "\n",
      "\n",
      "        [[[5, 6, 2],\n",
      "          [6, 3, 1]]]])\n",
      "torch.Size([3, 1, 2, 3]) 4\n"
     ]
    }
   ],
   "source": [
    "a8 = torch.tensor([[[[1, 2, 3], [2, 3, 4]]], [[[3, 1, 1], [4, 4, 5]]], [[[5, 6, 2], [6, 3, 1]]]])\n",
    "print(a8)\n",
    "print(a8.shape, a8.ndim) # shape은 torch.Size([3, 1, 2, 3]), dim = 4가 된다."
   ]
  },
  {
   "cell_type": "code",
   "execution_count": 12,
   "id": "5cea6fda",
   "metadata": {},
   "outputs": [
    {
     "name": "stdout",
     "output_type": "stream",
     "text": [
      "tensor([[[[[1],\n",
      "           [2],\n",
      "           [3]],\n",
      "\n",
      "          [[2],\n",
      "           [3],\n",
      "           [4]]]],\n",
      "\n",
      "\n",
      "\n",
      "        [[[[3],\n",
      "           [1],\n",
      "           [1]],\n",
      "\n",
      "          [[4],\n",
      "           [4],\n",
      "           [5]]]],\n",
      "\n",
      "\n",
      "\n",
      "        [[[[5],\n",
      "           [6],\n",
      "           [2]],\n",
      "\n",
      "          [[6],\n",
      "           [3],\n",
      "           [1]]]]])\n",
      "torch.Size([3, 1, 2, 3, 1]) 5\n"
     ]
    }
   ],
   "source": [
    "a9 = torch.tensor([\n",
    "    [[[[1], [2], [3]], [[2], [3], [4]]]],\n",
    "    [[[[3], [1], [1]], [[4], [4], [5]]]],\n",
    "    [[[[5], [6], [2]], [[6], [3], [1]]]]\n",
    "])\n",
    "print(a9)\n",
    "print(a9.shape, a9.ndim) # shape은 torch.Size([3, 1, 2, 3, 1]), dim = 5가 된다."
   ]
  },
  {
   "cell_type": "code",
   "execution_count": 13,
   "id": "124210d5",
   "metadata": {},
   "outputs": [
    {
     "name": "stdout",
     "output_type": "stream",
     "text": [
      "tensor([[[1, 2, 3, 4, 5]],\n",
      "\n",
      "        [[1, 2, 3, 4, 5]],\n",
      "\n",
      "        [[1, 2, 3, 4, 5]],\n",
      "\n",
      "        [[1, 2, 3, 4, 5]]])\n",
      "torch.Size([4, 1, 5]) 3\n"
     ]
    }
   ],
   "source": [
    "a10 = torch.tensor([[[1, 2, 3, 4, 5]], [[1, 2, 3, 4, 5]], [[1, 2, 3, 4, 5]], [[1, 2, 3, 4, 5]],])\n",
    "print(a10)\n",
    "print(a10.shape, a10.ndim) # shape은 torch.Size([4, 1, 5]), dim = 3이 된다."
   ]
  },
  {
   "cell_type": "code",
   "execution_count": 14,
   "id": "a86cb1e9",
   "metadata": {},
   "outputs": [
    {
     "ename": "ValueError",
     "evalue": "expected sequence of length 3 at dim 3 (got 2)",
     "output_type": "error",
     "traceback": [
      "\u001b[1;31m---------------------------------------------------------------------------\u001b[0m",
      "\u001b[1;31mValueError\u001b[0m                                Traceback (most recent call last)",
      "\u001b[1;32m~\\AppData\\Local\\Temp\\ipykernel_5092\\3414276364.py\u001b[0m in \u001b[0;36m<module>\u001b[1;34m\u001b[0m\n\u001b[1;32m----> 1\u001b[1;33m a11 = torch.tensor([\n\u001b[0m\u001b[0;32m      2\u001b[0m     \u001b[1;33m[\u001b[0m\u001b[1;33m[\u001b[0m\u001b[1;33m[\u001b[0m\u001b[1;36m1\u001b[0m\u001b[1;33m,\u001b[0m \u001b[1;36m2\u001b[0m\u001b[1;33m,\u001b[0m \u001b[1;36m3\u001b[0m\u001b[1;33m]\u001b[0m\u001b[1;33m,\u001b[0m \u001b[1;33m[\u001b[0m\u001b[1;36m4\u001b[0m\u001b[1;33m,\u001b[0m \u001b[1;36m5\u001b[0m\u001b[1;33m]\u001b[0m\u001b[1;33m]\u001b[0m\u001b[1;33m]\u001b[0m\u001b[1;33m,\u001b[0m\u001b[1;33m\u001b[0m\u001b[1;33m\u001b[0m\u001b[0m\n\u001b[0;32m      3\u001b[0m     \u001b[1;33m[\u001b[0m\u001b[1;33m[\u001b[0m\u001b[1;33m[\u001b[0m\u001b[1;36m1\u001b[0m\u001b[1;33m,\u001b[0m \u001b[1;36m2\u001b[0m\u001b[1;33m,\u001b[0m \u001b[1;36m3\u001b[0m\u001b[1;33m]\u001b[0m\u001b[1;33m,\u001b[0m \u001b[1;33m[\u001b[0m\u001b[1;36m4\u001b[0m\u001b[1;33m,\u001b[0m \u001b[1;36m5\u001b[0m\u001b[1;33m]\u001b[0m\u001b[1;33m]\u001b[0m\u001b[1;33m]\u001b[0m\u001b[1;33m,\u001b[0m\u001b[1;33m\u001b[0m\u001b[1;33m\u001b[0m\u001b[0m\n\u001b[0;32m      4\u001b[0m     \u001b[1;33m[\u001b[0m\u001b[1;33m[\u001b[0m\u001b[1;33m[\u001b[0m\u001b[1;36m1\u001b[0m\u001b[1;33m,\u001b[0m \u001b[1;36m2\u001b[0m\u001b[1;33m,\u001b[0m \u001b[1;36m3\u001b[0m\u001b[1;33m]\u001b[0m\u001b[1;33m,\u001b[0m \u001b[1;33m[\u001b[0m\u001b[1;36m4\u001b[0m\u001b[1;33m,\u001b[0m \u001b[1;36m5\u001b[0m\u001b[1;33m]\u001b[0m\u001b[1;33m]\u001b[0m\u001b[1;33m]\u001b[0m\u001b[1;33m,\u001b[0m\u001b[1;33m\u001b[0m\u001b[1;33m\u001b[0m\u001b[0m\n\u001b[0;32m      5\u001b[0m     \u001b[1;33m[\u001b[0m\u001b[1;33m[\u001b[0m\u001b[1;33m[\u001b[0m\u001b[1;36m1\u001b[0m\u001b[1;33m,\u001b[0m \u001b[1;36m2\u001b[0m\u001b[1;33m,\u001b[0m \u001b[1;36m3\u001b[0m\u001b[1;33m]\u001b[0m\u001b[1;33m,\u001b[0m \u001b[1;33m[\u001b[0m\u001b[1;36m4\u001b[0m\u001b[1;33m,\u001b[0m \u001b[1;36m5\u001b[0m\u001b[1;33m]\u001b[0m\u001b[1;33m]\u001b[0m\u001b[1;33m]\u001b[0m\u001b[1;33m,\u001b[0m\u001b[1;33m\u001b[0m\u001b[1;33m\u001b[0m\u001b[0m\n",
      "\u001b[1;31mValueError\u001b[0m: expected sequence of length 3 at dim 3 (got 2)"
     ]
    }
   ],
   "source": [
    "a11 = torch.tensor([\n",
    "    [[[1, 2, 3], [4, 5]]],\n",
    "    [[[1, 2, 3], [4, 5]]],\n",
    "    [[[1, 2, 3], [4, 5]]],\n",
    "    [[[1, 2, 3], [4, 5]]],\n",
    "]) # 가장 안쪽 차원의 원소의 개수가 3개, 2개로 서로 다르기 때문에 오류가 남."
   ]
  },
  {
   "cell_type": "markdown",
   "id": "4d9b774b",
   "metadata": {},
   "source": [
    "## b_tensor_initialization_copy.py"
   ]
  },
  {
   "cell_type": "code",
   "execution_count": 16,
   "id": "c7c6f943",
   "metadata": {},
   "outputs": [],
   "source": [
    "import torch\n",
    "import numpy as np"
   ]
  },
  {
   "cell_type": "code",
   "execution_count": 17,
   "id": "372beaf2",
   "metadata": {},
   "outputs": [
    {
     "name": "stdout",
     "output_type": "stream",
     "text": [
      "tensor([1., 2., 3.]) torch.float32\n",
      "tensor([1, 2, 3]) torch.int64\n",
      "tensor([1, 2, 3]) torch.int64\n",
      "##################################################\n"
     ]
    }
   ],
   "source": [
    "l1 = [1, 2, 3]\n",
    "t1 = torch.Tensor(l1)\n",
    "\n",
    "l2 = [1, 2, 3]\n",
    "t2 = torch.tensor(l2)\n",
    "\n",
    "l3 = [1, 2, 3]\n",
    "t3 = torch.as_tensor(l3)\n",
    "\n",
    "l1[0] = 100\n",
    "l2[0] = 100\n",
    "l3[0] = 100\n",
    "\n",
    "print(t1, t1.dtype) # Tensor로 선언하여 float32로 나온다\n",
    "print(t2, t2.dtype) # tensor을 호출하여 int64로 나온다\n",
    "print(t3, t3.dtype) # tensor를 호출한 결과와 같다\n",
    "\n",
    "# 3가지 경우 전부 deep_copy가 일어난다.\n",
    "\n",
    "print(\"#\" * 50)"
   ]
  },
  {
   "cell_type": "code",
   "execution_count": 18,
   "id": "1e8def76",
   "metadata": {},
   "outputs": [
    {
     "name": "stdout",
     "output_type": "stream",
     "text": [
      "tensor([1., 2., 3.]) torch.float32\n",
      "tensor([1, 2, 3], dtype=torch.int32) torch.int32\n",
      "tensor([100,   2,   3], dtype=torch.int32) torch.int32\n",
      "##################################################\n"
     ]
    }
   ],
   "source": [
    "l4 = np.array([1, 2, 3])\n",
    "t4 = torch.Tensor(l4)\n",
    "\n",
    "l5 = np.array([1, 2, 3])\n",
    "t5 = torch.tensor(l5)\n",
    "\n",
    "l6 = np.array([1, 2, 3])\n",
    "t6 = torch.as_tensor(l6)\n",
    "\n",
    "l4[0] = 100\n",
    "l5[0] = 100\n",
    "l6[0] = 100\n",
    "\n",
    "print(t4, t4.dtype) # Tensor로 생성하여 float32가 된다.\n",
    "print(t5, t5.dtype) # tensor를 호출하여 int32가 된다.\n",
    "print(t6, t6.dtype) # tensor와 같다.\n",
    "\n",
    "# t4, t5의 경우 deep_copy가 일어났지만, t6의 경우 shallow_copy가 일어난다.\n",
    "\n",
    "print(\"#\" * 50)"
   ]
  },
  {
   "cell_type": "markdown",
   "id": "a82a8e09",
   "metadata": {},
   "source": [
    "## c_tensor_initialization_constant_values.py"
   ]
  },
  {
   "cell_type": "code",
   "execution_count": 19,
   "id": "03e57aec",
   "metadata": {},
   "outputs": [],
   "source": [
    "import torch"
   ]
  },
  {
   "cell_type": "code",
   "execution_count": 20,
   "id": "c023ebf6",
   "metadata": {},
   "outputs": [
    {
     "name": "stdout",
     "output_type": "stream",
     "text": [
      "tensor([1., 1., 1., 1., 1.])\n",
      "tensor([1., 1., 1., 1., 1.])\n"
     ]
    }
   ],
   "source": [
    "t1 = torch.ones(size = (5,)) # shape이 torch.Size([5])이고 1로 채워진 tensor 생성\n",
    "t1_like = torch.ones_like(input = t1) # t1과 같은 shape에 1로 채워진 tensor 생성\n",
    "print(t1)\n",
    "print(t1_like)"
   ]
  },
  {
   "cell_type": "code",
   "execution_count": 21,
   "id": "4d2fbd49",
   "metadata": {},
   "outputs": [
    {
     "name": "stdout",
     "output_type": "stream",
     "text": [
      "tensor([0., 0., 0., 0., 0., 0.])\n",
      "tensor([0., 0., 0., 0., 0., 0.])\n"
     ]
    }
   ],
   "source": [
    "t2 = torch.zeros(size = (6,)) # shape이 torch.Size([6])이고 0으로 채워진 tensor 생성\n",
    "t2_like = torch.zeros_like(input=t2) # t2와 같은 shape에 0으로 채워진 tensor 생성\n",
    "print(t2)\n",
    "print(t2_like)"
   ]
  },
  {
   "cell_type": "code",
   "execution_count": 22,
   "id": "de54eba5",
   "metadata": {},
   "outputs": [
    {
     "name": "stdout",
     "output_type": "stream",
     "text": [
      "tensor([0.0000e+00, 0.0000e+00, 5.6052e-45, 0.0000e+00])\n",
      "tensor([8.4490e-39, 1.0194e-38, 8.9082e-39, 8.4490e-39])\n"
     ]
    }
   ],
   "source": [
    "t3 = torch.empty(size = (4,)) # shape이 torch.Size([4])이고 비어있는 tensor 생성\n",
    "t3_like = torch.empty_like(input = t3) # t3와 같은 shape에 비어있는 tensor 생성\n",
    "print(t3)\n",
    "print(t3_like)"
   ]
  },
  {
   "cell_type": "code",
   "execution_count": 23,
   "id": "feff6c54",
   "metadata": {},
   "outputs": [
    {
     "name": "stdout",
     "output_type": "stream",
     "text": [
      "tensor([[1., 0., 0.],\n",
      "        [0., 1., 0.],\n",
      "        [0., 0., 1.]])\n"
     ]
    }
   ],
   "source": [
    "t4 = torch.eye(n=3) # 항등행렬(I) 모양의 tensor 생성\n",
    "print(t4)"
   ]
  },
  {
   "cell_type": "markdown",
   "id": "d7bb7be6",
   "metadata": {},
   "source": [
    "## d_tensor_initialization_random_values.py"
   ]
  },
  {
   "cell_type": "code",
   "execution_count": 24,
   "id": "4aef4c05",
   "metadata": {},
   "outputs": [],
   "source": [
    "import torch"
   ]
  },
  {
   "cell_type": "code",
   "execution_count": 26,
   "id": "1280c6b3",
   "metadata": {},
   "outputs": [
    {
     "name": "stdout",
     "output_type": "stream",
     "text": [
      "tensor([[18, 17]])\n"
     ]
    }
   ],
   "source": [
    "t1 = torch.randint(low = 10, high = 20, size = (1, 2)) # low와 high사이의 랜덤한 정수값으로 tensor.Shape([1, 2])인 tensor를 생성한다\n",
    "print(t1)"
   ]
  },
  {
   "cell_type": "code",
   "execution_count": 29,
   "id": "ec0e93bb",
   "metadata": {},
   "outputs": [
    {
     "name": "stdout",
     "output_type": "stream",
     "text": [
      "tensor([[0.6076, 0.7191, 0.4711]])\n"
     ]
    }
   ],
   "source": [
    "t2 = torch.rand(size=(1, 3)) # 0 ~ 1 사이의 랜덤한 실수값으로 tensor.Shape([1, 3])의 tensor를 생성한다\n",
    "print(t2)"
   ]
  },
  {
   "cell_type": "code",
   "execution_count": 31,
   "id": "72610af7",
   "metadata": {},
   "outputs": [
    {
     "name": "stdout",
     "output_type": "stream",
     "text": [
      "tensor([[ 0.7233, -0.2942,  0.1082]])\n"
     ]
    }
   ],
   "source": [
    "t3 = torch.randn(size=(1, 3)) # 정규분포를 따르는 랜덤한 실수값으로 tensor.Shape([1, 3])인 tensor를 생성한다.\n",
    "print(t3)"
   ]
  },
  {
   "cell_type": "code",
   "execution_count": 37,
   "id": "999dd4c5",
   "metadata": {},
   "outputs": [
    {
     "name": "stdout",
     "output_type": "stream",
     "text": [
      "tensor([[10.2859,  8.1004],\n",
      "        [ 8.5567,  8.8812],\n",
      "        [ 9.8399,  8.4224]])\n"
     ]
    }
   ],
   "source": [
    "t4 = torch.normal(mean = 10.0, std = 1.0, size = (3, 2)) # mean(평균), std(표준 편차)인 정규분포 값을 torch.Shape([3, 2])인 tensor로 생성한다.\n",
    "print(t4)"
   ]
  },
  {
   "cell_type": "code",
   "execution_count": 39,
   "id": "ca9da254",
   "metadata": {},
   "outputs": [
    {
     "name": "stdout",
     "output_type": "stream",
     "text": [
      "tensor([0.0000, 2.5000, 5.0000])\n"
     ]
    }
   ],
   "source": [
    "t5 = torch.linspace(start = 0.0, end = 5.0, steps = 3) # start부터 end까지 일정한 간격을 가진 수를 steps개 만큼 tensor로 생성한다.\n",
    "print(t5)"
   ]
  },
  {
   "cell_type": "code",
   "execution_count": 41,
   "id": "2dabb575",
   "metadata": {},
   "outputs": [
    {
     "name": "stdout",
     "output_type": "stream",
     "text": [
      "tensor([0, 1, 2, 3, 4])\n"
     ]
    }
   ],
   "source": [
    "t6 = torch.arange(5) # 0 ~ n - 1까지의 수를 tensor로 생성한다\n",
    "print(t6)"
   ]
  },
  {
   "cell_type": "code",
   "execution_count": 45,
   "id": "577c2604",
   "metadata": {},
   "outputs": [
    {
     "name": "stdout",
     "output_type": "stream",
     "text": [
      "tensor([[0.3126, 0.3791, 0.3087],\n",
      "        [0.0736, 0.4216, 0.0691]])\n"
     ]
    }
   ],
   "source": [
    "torch.manual_seed(1729) # 특정 시드값을 이용하여 일정한 랜덤값을 생성한다\n",
    "random1 = torch.rand(2, 3)\n",
    "print(random1)"
   ]
  },
  {
   "cell_type": "code",
   "execution_count": 46,
   "id": "71753fe9",
   "metadata": {},
   "outputs": [
    {
     "name": "stdout",
     "output_type": "stream",
     "text": [
      "tensor([[0.2332, 0.4047, 0.2162],\n",
      "        [0.9927, 0.4128, 0.5938]])\n"
     ]
    }
   ],
   "source": [
    "random2 = torch.rand(2, 3)\n",
    "print(random2)"
   ]
  },
  {
   "cell_type": "code",
   "execution_count": 48,
   "id": "423913ee",
   "metadata": {},
   "outputs": [
    {
     "name": "stdout",
     "output_type": "stream",
     "text": [
      "tensor([[0.3126, 0.3791, 0.3087],\n",
      "        [0.0736, 0.4216, 0.0691]])\n"
     ]
    }
   ],
   "source": [
    "torch.manual_seed(1729)\n",
    "random3 = torch.rand(2, 3)\n",
    "print(random3)\n",
    "\n",
    "# random1과 결과가 같은것을 볼 수 있다."
   ]
  },
  {
   "cell_type": "code",
   "execution_count": 50,
   "id": "20cbfd02",
   "metadata": {},
   "outputs": [
    {
     "name": "stdout",
     "output_type": "stream",
     "text": [
      "tensor([[0.6128, 0.1519, 0.0453],\n",
      "        [0.5035, 0.9978, 0.3884]])\n"
     ]
    }
   ],
   "source": [
    "random4 = torch.rand(2, 3)\n",
    "print(random4)\n",
    "\n",
    "# random2와 결과가 같은것을 볼 수 있다."
   ]
  },
  {
   "cell_type": "markdown",
   "id": "cb80757e",
   "metadata": {},
   "source": [
    "## e_tensor_type_conversion.py"
   ]
  },
  {
   "cell_type": "code",
   "execution_count": 51,
   "id": "9bc7f1f9",
   "metadata": {},
   "outputs": [],
   "source": [
    "import torch"
   ]
  },
  {
   "cell_type": "code",
   "execution_count": 53,
   "id": "db1fc72d",
   "metadata": {},
   "outputs": [
    {
     "name": "stdout",
     "output_type": "stream",
     "text": [
      "torch.float32\n"
     ]
    }
   ],
   "source": [
    "a = torch.ones((2, 3)) # 그냥 아무것도 없이 생성하면 float32로 생성된다\n",
    "print(a.dtype)"
   ]
  },
  {
   "cell_type": "code",
   "execution_count": 57,
   "id": "6c160c39",
   "metadata": {},
   "outputs": [
    {
     "name": "stdout",
     "output_type": "stream",
     "text": [
      "tensor([[1, 1, 1],\n",
      "        [1, 1, 1]], dtype=torch.int16)\n"
     ]
    }
   ],
   "source": [
    "b = torch.ones((2, 3), dtype=torch.int16) # dtype을 torch.int16으로 설정하여 torch.int16으로 생성된다.\n",
    "print(b)"
   ]
  },
  {
   "cell_type": "code",
   "execution_count": 58,
   "id": "a8ddd575",
   "metadata": {},
   "outputs": [
    {
     "name": "stdout",
     "output_type": "stream",
     "text": [
      "tensor([[1.1241, 1.1208, 1.1669],\n",
      "        [1.8328, 0.0212, 1.8497]], dtype=torch.float64)\n"
     ]
    }
   ],
   "source": [
    "c = torch.rand((2, 3), dtype=torch.float64) * 2 # dtype을 torch.float64로 하여 생성하였고, 생성된 후 각 값에 2를 곱하였다.\n",
    "print(c)"
   ]
  },
  {
   "cell_type": "code",
   "execution_count": 60,
   "id": "9d991a16",
   "metadata": {},
   "outputs": [
    {
     "name": "stdout",
     "output_type": "stream",
     "text": [
      "tensor([[1, 1, 1],\n",
      "        [1, 1, 1]], dtype=torch.int32)\n"
     ]
    }
   ],
   "source": [
    "d = b.to(torch.int32) # b tensor의 dtype을 torch.int16에서 torch.int32로 변환하여 새로운 d tensor를 생성한다\n",
    "print(d)"
   ]
  },
  {
   "cell_type": "code",
   "execution_count": 62,
   "id": "3c2ab621",
   "metadata": {},
   "outputs": [
    {
     "name": "stdout",
     "output_type": "stream",
     "text": [
      "tensor([[1., 1.],\n",
      "        [1., 1.],\n",
      "        [1., 1.],\n",
      "        [1., 1.],\n",
      "        [1., 1.],\n",
      "        [1., 1.],\n",
      "        [1., 1.],\n",
      "        [1., 1.],\n",
      "        [1., 1.],\n",
      "        [1., 1.]], dtype=torch.float64)\n",
      "tensor([[1, 2]], dtype=torch.int16)\n"
     ]
    }
   ],
   "source": [
    "double_d = torch.ones(10, 2, dtype=torch.double) # torch.float64로 생성하는 방법 1\n",
    "short_e = torch.tensor([[1, 2]], dtype=torch.short) # torch.int16으로 생성하는 방법 1\n",
    "print(double_d)\n",
    "print(short_e)"
   ]
  },
  {
   "cell_type": "code",
   "execution_count": 64,
   "id": "47bd8e3c",
   "metadata": {},
   "outputs": [
    {
     "name": "stdout",
     "output_type": "stream",
     "text": [
      "tensor([[0., 0.],\n",
      "        [0., 0.],\n",
      "        [0., 0.],\n",
      "        [0., 0.],\n",
      "        [0., 0.],\n",
      "        [0., 0.],\n",
      "        [0., 0.],\n",
      "        [0., 0.],\n",
      "        [0., 0.],\n",
      "        [0., 0.]], dtype=torch.float64)\n",
      "tensor([[1, 1],\n",
      "        [1, 1],\n",
      "        [1, 1],\n",
      "        [1, 1],\n",
      "        [1, 1],\n",
      "        [1, 1],\n",
      "        [1, 1],\n",
      "        [1, 1],\n",
      "        [1, 1],\n",
      "        [1, 1]], dtype=torch.int16)\n"
     ]
    }
   ],
   "source": [
    "double_d = torch.zeros(10, 2).double() # float64로 생성하는 방법 2\n",
    "short_e = torch.ones(10, 2).short() # int16으로 생성하는 방법 2\n",
    "print(double_d)\n",
    "print(short_e)"
   ]
  },
  {
   "cell_type": "code",
   "execution_count": 66,
   "id": "9d0905eb",
   "metadata": {},
   "outputs": [
    {
     "name": "stdout",
     "output_type": "stream",
     "text": [
      "tensor([[0., 0.],\n",
      "        [0., 0.],\n",
      "        [0., 0.],\n",
      "        [0., 0.],\n",
      "        [0., 0.],\n",
      "        [0., 0.],\n",
      "        [0., 0.],\n",
      "        [0., 0.],\n",
      "        [0., 0.],\n",
      "        [0., 0.]], dtype=torch.float64)\n",
      "tensor([[1, 1],\n",
      "        [1, 1],\n",
      "        [1, 1],\n",
      "        [1, 1],\n",
      "        [1, 1],\n",
      "        [1, 1],\n",
      "        [1, 1],\n",
      "        [1, 1],\n",
      "        [1, 1],\n",
      "        [1, 1]], dtype=torch.int16)\n"
     ]
    }
   ],
   "source": [
    "double_d = torch.zeros(10, 2).to(torch.double) # float64로 생성하는 방법 3\n",
    "short_e = torch.ones(10, 2).to(dtype=torch.short) # int16으로 생성하는 방법 3\n",
    "print(double_d)\n",
    "print(short_e)"
   ]
  },
  {
   "cell_type": "code",
   "execution_count": 68,
   "id": "36988b44",
   "metadata": {},
   "outputs": [
    {
     "name": "stdout",
     "output_type": "stream",
     "text": [
      "tensor([[0., 0.],\n",
      "        [0., 0.],\n",
      "        [0., 0.],\n",
      "        [0., 0.],\n",
      "        [0., 0.],\n",
      "        [0., 0.],\n",
      "        [0., 0.],\n",
      "        [0., 0.],\n",
      "        [0., 0.],\n",
      "        [0., 0.]], dtype=torch.float64)\n",
      "tensor([[1, 1],\n",
      "        [1, 1],\n",
      "        [1, 1],\n",
      "        [1, 1],\n",
      "        [1, 1],\n",
      "        [1, 1],\n",
      "        [1, 1],\n",
      "        [1, 1],\n",
      "        [1, 1],\n",
      "        [1, 1]], dtype=torch.int16)\n"
     ]
    }
   ],
   "source": [
    "double_d = torch.zeros(10, 2).type(torch.double) # float64로 생성하는 방법 4\n",
    "short_e = torch.ones(10, 2).type(dtype=torch.short) # int16으로 생성하는 방법 4\n",
    "print(double_d)\n",
    "print(short_e)"
   ]
  },
  {
   "cell_type": "code",
   "execution_count": 71,
   "id": "d51a1cb7",
   "metadata": {},
   "outputs": [
    {
     "name": "stdout",
     "output_type": "stream",
     "text": [
      "torch.float64\n"
     ]
    }
   ],
   "source": [
    "double_f = torch.rand(5, dtype=torch.double) # float64\n",
    "short_g = double_f.to(torch.short) # int16\n",
    "print((double_f * short_g).dtype) # 둘을 곱하면 float64로 나온다"
   ]
  },
  {
   "cell_type": "markdown",
   "id": "3c449474",
   "metadata": {},
   "source": [
    "## f_tensor_operations.py"
   ]
  },
  {
   "cell_type": "code",
   "execution_count": 72,
   "id": "984458b6",
   "metadata": {},
   "outputs": [],
   "source": [
    "import torch"
   ]
  },
  {
   "cell_type": "code",
   "execution_count": 76,
   "id": "d84e5a12",
   "metadata": {},
   "outputs": [
    {
     "name": "stdout",
     "output_type": "stream",
     "text": [
      "tensor([[2., 2., 2.],\n",
      "        [2., 2., 2.]])\n",
      "tensor([[2., 2., 2.],\n",
      "        [2., 2., 2.]])\n"
     ]
    }
   ],
   "source": [
    "t1 = torch.ones(size=(2, 3))\n",
    "t2 = torch.ones(size=(2, 3))\n",
    "t3 = torch.add(t1, t2) # 덧셈 연산 함수\n",
    "t4 = t1 + t2 # 덧셈 연산자\n",
    "\n",
    "print(t3)\n",
    "print(t4)\n",
    "\n",
    "# 같은 결과가 나온다"
   ]
  },
  {
   "cell_type": "code",
   "execution_count": 77,
   "id": "83d0574d",
   "metadata": {},
   "outputs": [
    {
     "name": "stdout",
     "output_type": "stream",
     "text": [
      "tensor([[0., 0., 0.],\n",
      "        [0., 0., 0.]])\n",
      "tensor([[0., 0., 0.],\n",
      "        [0., 0., 0.]])\n"
     ]
    }
   ],
   "source": [
    "t5 = torch.sub(t1, t2) # 뺄셈 연산 함수\n",
    "t6 = t1 - t2 # 뺄셈 연산자\n",
    "\n",
    "print(t5)\n",
    "print(t6)\n",
    "\n",
    "# 같은 결과가 나온다"
   ]
  },
  {
   "cell_type": "code",
   "execution_count": 79,
   "id": "d457036d",
   "metadata": {},
   "outputs": [
    {
     "name": "stdout",
     "output_type": "stream",
     "text": [
      "tensor([[1., 1., 1.],\n",
      "        [1., 1., 1.]])\n",
      "tensor([[1., 1., 1.],\n",
      "        [1., 1., 1.]])\n"
     ]
    }
   ],
   "source": [
    "t7 = torch.mul(t1, t2) # 곱셈 연산 함수\n",
    "t8 = t1 * t2 # 곱셈 연산자\n",
    "\n",
    "print(t7)\n",
    "print(t8)\n",
    "\n",
    "# 같은 결과가 나온다"
   ]
  },
  {
   "cell_type": "code",
   "execution_count": 82,
   "id": "81d28e3b",
   "metadata": {},
   "outputs": [
    {
     "name": "stdout",
     "output_type": "stream",
     "text": [
      "tensor([[1., 1., 1.],\n",
      "        [1., 1., 1.]])\n",
      "tensor([[1., 1., 1.],\n",
      "        [1., 1., 1.]])\n"
     ]
    }
   ],
   "source": [
    "t9 = torch.div(t1, t2) # 나눗셈 연산 함수\n",
    "t10 = t1 / t2 # 나눗셈 연산자\n",
    "\n",
    "print(t9)\n",
    "print(t10)\n",
    "\n",
    "# 같은 결과가 나온다"
   ]
  },
  {
   "cell_type": "markdown",
   "id": "bf67f4ed",
   "metadata": {},
   "source": [
    "## g_tensor_operations_mm.py"
   ]
  },
  {
   "cell_type": "code",
   "execution_count": 83,
   "id": "a756c645",
   "metadata": {},
   "outputs": [],
   "source": [
    "import torch"
   ]
  },
  {
   "cell_type": "code",
   "execution_count": 85,
   "id": "05cea02c",
   "metadata": {},
   "outputs": [
    {
     "name": "stdout",
     "output_type": "stream",
     "text": [
      "tensor(7) torch.Size([])\n"
     ]
    }
   ],
   "source": [
    " t1 = torch.dot(torch.tensor([2, 3]), torch.tensor([2, 1])) # 두 텐서(1D)의 도트곱을 계산한다\n",
    "print(t1, t1.size())"
   ]
  },
  {
   "cell_type": "code",
   "execution_count": 89,
   "id": "b68343c4",
   "metadata": {},
   "outputs": [
    {
     "name": "stdout",
     "output_type": "stream",
     "text": [
      "tensor([[ 0.5501, -0.6629],\n",
      "        [ 0.3718, -0.4697]]) torch.Size([2, 2])\n"
     ]
    }
   ],
   "source": [
    "t2 = torch.randn(2, 3)\n",
    "t3 = torch.randn(3, 2)\n",
    "t4 = torch.mm(t2, t3) # 두 텐서의 행렬곱을 수행한다.\n",
    "print(t4, t4.size())"
   ]
  },
  {
   "cell_type": "code",
   "execution_count": 91,
   "id": "3d3ce886",
   "metadata": {},
   "outputs": [
    {
     "name": "stdout",
     "output_type": "stream",
     "text": [
      "tensor([[[-1.1995e+00,  3.3228e-01,  2.3784e+00, -9.0267e-01, -6.2310e-01],\n",
      "         [-4.9171e+00,  3.6110e+00,  3.6119e+00,  3.0757e+00, -2.3181e+00],\n",
      "         [-5.6531e-03,  1.8100e+00, -9.0880e-01,  5.4464e-01, -9.3912e-01]],\n",
      "\n",
      "        [[-7.1170e-01, -5.0107e+00,  2.9406e+00,  6.4434e-01, -1.5403e+00],\n",
      "         [-7.1455e-01, -1.3942e+00, -5.9811e-01,  3.8066e+00,  1.8539e+00],\n",
      "         [-4.1797e+00, -3.7538e+00, -8.0702e-01,  9.7789e-02,  1.3889e+00]],\n",
      "\n",
      "        [[-5.6938e-01, -2.5808e-01, -4.6690e-01,  1.0613e-01,  8.1542e-01],\n",
      "         [ 1.8829e+00,  1.3182e+00, -6.9806e-02,  6.4918e-01,  8.4708e-01],\n",
      "         [ 4.2289e-01,  2.0017e+00,  1.3828e-01,  2.3985e-01,  2.3539e+00]],\n",
      "\n",
      "        [[ 3.4003e+00,  1.6936e+00, -3.3164e+00, -9.2828e-01, -9.7569e-01],\n",
      "         [-1.1326e+00, -1.5087e+00,  2.7934e+00, -4.6283e-01,  7.6316e-01],\n",
      "         [-6.9533e-01, -5.8640e-01,  2.8724e+00,  8.0673e-01, -6.7800e-02]],\n",
      "\n",
      "        [[-1.1608e+00, -3.7923e-01, -1.0090e-01,  5.7561e-02,  1.9729e-01],\n",
      "         [ 2.5126e+00, -1.1976e+00, -1.1412e+00, -2.0728e+00, -9.6184e-02],\n",
      "         [ 4.0787e+00, -3.9304e+00, -1.7661e+00,  8.6516e-01, -2.1354e+00]],\n",
      "\n",
      "        [[ 2.2223e+00, -5.2909e+00,  1.1403e+00,  1.3782e-01,  2.6982e+00],\n",
      "         [-1.6551e+00, -6.5371e+00,  1.3525e+00,  7.3398e-01,  2.7886e+00],\n",
      "         [-8.1186e-01,  5.5120e+00,  3.9694e-01,  3.0940e+00, -3.7567e+00]],\n",
      "\n",
      "        [[-5.7239e-01, -2.9545e+00, -3.1238e+00, -3.3055e-01, -1.1061e+00],\n",
      "         [ 5.1055e-01, -1.1951e+00,  2.5769e+00,  5.7652e+00, -5.6401e-01],\n",
      "         [-2.6608e+00, -3.9951e+00,  9.2363e-01,  3.1332e+00,  7.7412e-01]],\n",
      "\n",
      "        [[ 3.1159e-01, -1.2424e+00,  1.5223e+00, -1.5398e+00, -1.1488e-02],\n",
      "         [ 4.6322e+00,  1.5794e+00, -2.2391e+00, -3.8241e-01, -7.3966e-04],\n",
      "         [ 5.0977e-01,  1.5713e+00, -9.3745e-01, -4.1886e-01, -4.2238e-01]],\n",
      "\n",
      "        [[ 3.1747e+00, -4.6755e-01, -3.2576e-01, -3.7198e-01, -3.1312e-01],\n",
      "         [-2.5070e+00,  7.3990e-01,  9.1584e-02, -8.1149e-01, -1.2192e+00],\n",
      "         [-6.2743e+00,  3.8746e-01, -3.0519e+00, -2.6423e+00, -1.9789e+00]],\n",
      "\n",
      "        [[ 7.7065e-01, -1.9166e-01, -2.5110e+00,  6.8923e+00,  1.4256e+00],\n",
      "         [-2.0653e-01, -1.5235e+00, -8.1123e-02, -1.5839e+00,  5.6755e-01],\n",
      "         [ 9.7202e-01,  1.9603e+00, -8.7144e-01, -2.6222e+00, -1.4483e+00]]]) torch.Size([10, 3, 5])\n"
     ]
    }
   ],
   "source": [
    "t5 = torch.randn(10, 3, 4)\n",
    "t6 = torch.randn(10, 4, 5)\n",
    "t7 = torch.bmm(t5, t6) # 두 텐서의 배치행렬곱을 수행한다.\n",
    "print(t7, t7.size())"
   ]
  },
  {
   "cell_type": "markdown",
   "id": "737a5c75",
   "metadata": {},
   "source": [
    "## h_tensor_operations_matmul.py"
   ]
  },
  {
   "cell_type": "code",
   "execution_count": 93,
   "id": "20c11dba",
   "metadata": {},
   "outputs": [],
   "source": [
    "import torch"
   ]
  },
  {
   "cell_type": "code",
   "execution_count": 96,
   "id": "fdfc1dfb",
   "metadata": {},
   "outputs": [
    {
     "name": "stdout",
     "output_type": "stream",
     "text": [
      "torch.Size([])\n"
     ]
    }
   ],
   "source": [
    "t1 = torch.randn(3)\n",
    "t2 = torch.randn(3)\n",
    "print(torch.matmul(t1, t2).size()) #  두 tesnor의 행렬곱을 실행한다. broadcasting을 지원한다."
   ]
  },
  {
   "cell_type": "code",
   "execution_count": 97,
   "id": "a53ea499",
   "metadata": {},
   "outputs": [
    {
     "name": "stdout",
     "output_type": "stream",
     "text": [
      "torch.Size([3])\n"
     ]
    }
   ],
   "source": [
    "t3 = torch.randn(3, 4)\n",
    "t4 = torch.randn(4)\n",
    "print(torch.matmul(t3, t4).size()) # 두 tensor의 broadcasted dot product를 실행한다."
   ]
  },
  {
   "cell_type": "code",
   "execution_count": 98,
   "id": "c4297bcc",
   "metadata": {},
   "outputs": [
    {
     "name": "stdout",
     "output_type": "stream",
     "text": [
      "torch.Size([10, 3])\n"
     ]
    }
   ],
   "source": [
    "t5 = torch.randn(10, 3, 4)\n",
    "t6 = torch.randn(4)\n",
    "print(torch.matmul(t5, t6).size()) # 두 tensor의 broadcasted dot product를 실행한다."
   ]
  },
  {
   "cell_type": "code",
   "execution_count": 99,
   "id": "f1d185cb",
   "metadata": {},
   "outputs": [
    {
     "name": "stdout",
     "output_type": "stream",
     "text": [
      "torch.Size([10, 3, 5])\n"
     ]
    }
   ],
   "source": [
    "t7 = torch.randn(10, 3, 4)\n",
    "t8 = torch.randn(10, 4, 5)\n",
    "print(torch.matmul(t7, t8).size()) # 두 tensor의 batched matrix multiplication을 실행한다."
   ]
  },
  {
   "cell_type": "code",
   "execution_count": 100,
   "id": "0c9662cb",
   "metadata": {},
   "outputs": [
    {
     "name": "stdout",
     "output_type": "stream",
     "text": [
      "torch.Size([10, 3, 5])\n"
     ]
    }
   ],
   "source": [
    "t9 = torch.randn(10, 3, 4)\n",
    "t10 = torch.randn(4, 5)\n",
    "print(torch.matmul(t9, t10).size()) # 두 tensor의 multiplication을 실행한다. batch와 broadcast 둘 다 지원한다."
   ]
  },
  {
   "cell_type": "markdown",
   "id": "26477acc",
   "metadata": {},
   "source": [
    "## i_tensor_broadcasting.py"
   ]
  },
  {
   "cell_type": "code",
   "execution_count": 101,
   "id": "c9be8951",
   "metadata": {},
   "outputs": [],
   "source": [
    "import torch"
   ]
  },
  {
   "cell_type": "code",
   "execution_count": 103,
   "id": "840a4a01",
   "metadata": {},
   "outputs": [
    {
     "name": "stdout",
     "output_type": "stream",
     "text": [
      "tensor([2., 4., 6.])\n"
     ]
    }
   ],
   "source": [
    "t1 = torch.tensor([1.0, 2.0, 3.0])\n",
    "t2 = 2.0\n",
    "print(t1 * t2) # tensor에 상수를 곱하면 자동으로 broadcast된다."
   ]
  },
  {
   "cell_type": "code",
   "execution_count": 105,
   "id": "2c2e8b4f",
   "metadata": {},
   "outputs": [
    {
     "name": "stdout",
     "output_type": "stream",
     "text": [
      "tensor([[-4, -4],\n",
      "        [-2, -1],\n",
      "        [ 6,  5]])\n"
     ]
    }
   ],
   "source": [
    "t3 = torch.tensor([[0, 1], [2, 4], [10, 10]])\n",
    "t4 = torch.tensor([4, 5])\n",
    "print(t3 - t4) # tensor에 더 작은 tensor를 연산하면 자동으로 broadcast된다."
   ]
  },
  {
   "cell_type": "code",
   "execution_count": 107,
   "id": "e106f23d",
   "metadata": {},
   "outputs": [
    {
     "name": "stdout",
     "output_type": "stream",
     "text": [
      "tensor([[3., 4.],\n",
      "        [5., 6.]])\n",
      "tensor([[-1.,  0.],\n",
      "        [ 1.,  2.]])\n",
      "tensor([[2., 4.],\n",
      "        [6., 8.]])\n",
      "tensor([[0.5000, 1.0000],\n",
      "        [1.5000, 2.0000]])\n"
     ]
    }
   ],
   "source": [
    "t5 = torch.tensor([[1.,2.], [3.,4.]])\n",
    "print(t5 + 2.0) # t5.add(2.0)\n",
    "print(t5 - 2.0) # t5.sub(2.0)\n",
    "print(t5 * 2.0) # t5.mul(2.0)\n",
    "print(t5 / 2.0) # t5.div(2.0)"
   ]
  },
  {
   "cell_type": "code",
   "execution_count": 112,
   "id": "c6620433",
   "metadata": {},
   "outputs": [],
   "source": [
    "def normalize(x):\n",
    "    return x / 255"
   ]
  },
  {
   "cell_type": "code",
   "execution_count": 114,
   "id": "8dd9b0ef",
   "metadata": {},
   "outputs": [
    {
     "name": "stdout",
     "output_type": "stream",
     "text": [
      "torch.Size([3, 28, 28])\n"
     ]
    }
   ],
   "source": [
    "t6 = torch.randn(3, 28, 28)\n",
    "print(normalize(t6).size()) # 원래의 shape을 유지하며, 연산만 된다."
   ]
  },
  {
   "cell_type": "code",
   "execution_count": 116,
   "id": "55fe5de9",
   "metadata": {},
   "outputs": [
    {
     "name": "stdout",
     "output_type": "stream",
     "text": [
      "tensor([[4, 3],\n",
      "        [3, 4]])\n",
      "tensor([[6, 7],\n",
      "        [2, 5]])\n",
      "tensor([[8, 6],\n",
      "        [5, 3]])\n",
      "tensor([[ 8,  9],\n",
      "        [ 7, 10]])\n"
     ]
    }
   ],
   "source": [
    "t7 = torch.tensor([[1, 2], [0, 3]])\n",
    "t8 = torch.tensor([[3, 1]])\n",
    "t9 = torch.tensor([[5], [2]])\n",
    "t10 = torch.tensor([7])\n",
    "print(t7 + t8)\n",
    "print(t7 + t9)\n",
    "print(t8 + t9)\n",
    "print(t7 + t10)\n",
    "\n",
    "# 더 큰 shape을 가진 tensor의 shape으로 broadcasting 된다."
   ]
  },
  {
   "cell_type": "code",
   "execution_count": 119,
   "id": "5470d041",
   "metadata": {},
   "outputs": [
    {
     "name": "stdout",
     "output_type": "stream",
     "text": [
      "torch.Size([4, 3, 2])\n"
     ]
    }
   ],
   "source": [
    "t11 = torch.ones(4, 3, 2)\n",
    "t12 = t11 * torch.rand(3, 2)\n",
    "print(t12.shape) # t12가 t11보다 작으므로 t11의 shape으로 broadcasting된다"
   ]
  },
  {
   "cell_type": "code",
   "execution_count": 121,
   "id": "454ee42d",
   "metadata": {},
   "outputs": [
    {
     "name": "stdout",
     "output_type": "stream",
     "text": [
      "torch.Size([4, 3, 2])\n"
     ]
    }
   ],
   "source": [
    "t13 = torch.ones(4, 3, 2)\n",
    "t14 = t13 * torch.rand(3, 1)\n",
    "print(t14.shape) # t14가 t13보다 작으므로 t13의 shape으로 broadcasting된다"
   ]
  },
  {
   "cell_type": "code",
   "execution_count": 123,
   "id": "65f96bd5",
   "metadata": {},
   "outputs": [
    {
     "name": "stdout",
     "output_type": "stream",
     "text": [
      "torch.Size([4, 3, 2])\n"
     ]
    }
   ],
   "source": [
    "t15 = torch.ones(4, 3, 2)\n",
    "t16 = t15 * torch.rand(1, 2)\n",
    "print(t16.shape) # t16이 t15보다 작으므로 t15의 shape으로 broadcasting된다"
   ]
  },
  {
   "cell_type": "code",
   "execution_count": 125,
   "id": "55d8898b",
   "metadata": {},
   "outputs": [
    {
     "name": "stdout",
     "output_type": "stream",
     "text": [
      "torch.Size([5, 3, 4, 1])\n"
     ]
    }
   ],
   "source": [
    "t17 = torch.ones(5, 3, 4, 1)\n",
    "t18 = torch.rand(3, 1, 1)\n",
    "print((t17 + t18).size()) # t18이 t17보다 작으므로 t17의 shape으로 broadcasting된다"
   ]
  },
  {
   "cell_type": "code",
   "execution_count": 127,
   "id": "5d58b069",
   "metadata": {},
   "outputs": [
    {
     "name": "stdout",
     "output_type": "stream",
     "text": [
      "torch.Size([5, 3, 4, 1])\n"
     ]
    }
   ],
   "source": [
    "t19 = torch.empty(5, 1, 4, 1)\n",
    "t20 = torch.empty(3, 1, 1)\n",
    "print((t19 + t20).size()) # t19의 두번째 차원보다 t20의 첫 번째 차원이 더 크기 때문에, 각 dim의 크기가 더 큰 쪽으로 broadcasting된다."
   ]
  },
  {
   "cell_type": "code",
   "execution_count": 129,
   "id": "311a407d",
   "metadata": {},
   "outputs": [
    {
     "name": "stdout",
     "output_type": "stream",
     "text": [
      "torch.Size([3, 1, 7])\n"
     ]
    }
   ],
   "source": [
    "t21 = torch.empty(1)\n",
    "t22 = torch.empty(3, 1, 7)\n",
    "print((t21 + t22).size())"
   ]
  },
  {
   "cell_type": "code",
   "execution_count": 130,
   "id": "9d0163c4",
   "metadata": {},
   "outputs": [
    {
     "name": "stdout",
     "output_type": "stream",
     "text": [
      "torch.Size([3, 3, 3])\n"
     ]
    }
   ],
   "source": [
    "t23 = torch.ones(3, 3, 3)\n",
    "t24 = torch.ones(3, 1, 3)\n",
    "print((t23 + t24).size())"
   ]
  },
  {
   "cell_type": "code",
   "execution_count": 133,
   "id": "cfa7aa40",
   "metadata": {},
   "outputs": [
    {
     "ename": "RuntimeError",
     "evalue": "The size of tensor a (2) must match the size of tensor b (3) at non-singleton dimension 1",
     "output_type": "error",
     "traceback": [
      "\u001b[1;31m---------------------------------------------------------------------------\u001b[0m",
      "\u001b[1;31mRuntimeError\u001b[0m                              Traceback (most recent call last)",
      "\u001b[1;32m~\\AppData\\Local\\Temp\\ipykernel_5092\\2314100713.py\u001b[0m in \u001b[0;36m<module>\u001b[1;34m\u001b[0m\n\u001b[0;32m      1\u001b[0m \u001b[0mt25\u001b[0m \u001b[1;33m=\u001b[0m \u001b[0mtorch\u001b[0m\u001b[1;33m.\u001b[0m\u001b[0mempty\u001b[0m\u001b[1;33m(\u001b[0m\u001b[1;36m5\u001b[0m\u001b[1;33m,\u001b[0m \u001b[1;36m2\u001b[0m\u001b[1;33m,\u001b[0m \u001b[1;36m4\u001b[0m\u001b[1;33m,\u001b[0m \u001b[1;36m1\u001b[0m\u001b[1;33m)\u001b[0m\u001b[1;33m\u001b[0m\u001b[1;33m\u001b[0m\u001b[0m\n\u001b[0;32m      2\u001b[0m \u001b[0mt26\u001b[0m \u001b[1;33m=\u001b[0m \u001b[0mtorch\u001b[0m\u001b[1;33m.\u001b[0m\u001b[0mempty\u001b[0m\u001b[1;33m(\u001b[0m\u001b[1;36m3\u001b[0m\u001b[1;33m,\u001b[0m \u001b[1;36m1\u001b[0m\u001b[1;33m,\u001b[0m \u001b[1;36m1\u001b[0m\u001b[1;33m)\u001b[0m\u001b[1;33m\u001b[0m\u001b[1;33m\u001b[0m\u001b[0m\n\u001b[1;32m----> 3\u001b[1;33m \u001b[0mprint\u001b[0m\u001b[1;33m(\u001b[0m\u001b[1;33m(\u001b[0m\u001b[0mt25\u001b[0m \u001b[1;33m+\u001b[0m \u001b[0mt26\u001b[0m\u001b[1;33m)\u001b[0m\u001b[1;33m.\u001b[0m\u001b[0msize\u001b[0m\u001b[1;33m(\u001b[0m\u001b[1;33m)\u001b[0m\u001b[1;33m)\u001b[0m \u001b[1;31m# broadcasting한 경우 t26의 shape이 (5, 3, 1, 1)이 되면서 t25의 두번째 차원인 2보다 t26의 두 번째 차원인 3이 더 큰 값을 갖게 되기 때문에 broadcasting이 불가능하다.\u001b[0m\u001b[1;33m\u001b[0m\u001b[1;33m\u001b[0m\u001b[0m\n\u001b[0m",
      "\u001b[1;31mRuntimeError\u001b[0m: The size of tensor a (2) must match the size of tensor b (3) at non-singleton dimension 1"
     ]
    }
   ],
   "source": [
    "t25 = torch.empty(5, 2, 4, 1)\n",
    "t26 = torch.empty(3, 1, 1)\n",
    "print((t25 + t26).size()) # broadcasting한 경우 t26의 shape이 (5, 3, 1, 1)이 되면서 t25의 두번째 차원인 2보다 t26의 두 번째 차원인 3이 더 큰 값을 갖게 되기 때문에 broadcasting이 불가능하다."
   ]
  },
  {
   "cell_type": "code",
   "execution_count": 134,
   "id": "c593e359",
   "metadata": {},
   "outputs": [
    {
     "name": "stdout",
     "output_type": "stream",
     "text": [
      "tensor([5., 5., 5., 5.])\n"
     ]
    }
   ],
   "source": [
    "t27 = torch.ones(4) * 5\n",
    "print(t27)"
   ]
  },
  {
   "cell_type": "code",
   "execution_count": 135,
   "id": "e72b322a",
   "metadata": {},
   "outputs": [
    {
     "name": "stdout",
     "output_type": "stream",
     "text": [
      "tensor([25., 25., 25., 25.])\n"
     ]
    }
   ],
   "source": [
    "t28 = torch.pow(t27, 2)\n",
    "print(t28)"
   ]
  },
  {
   "cell_type": "code",
   "execution_count": 136,
   "id": "088ee0aa",
   "metadata": {},
   "outputs": [
    {
     "name": "stdout",
     "output_type": "stream",
     "text": [
      "tensor([  1.,   4.,  27., 256.])\n"
     ]
    }
   ],
   "source": [
    "exp = torch.arange(1., 5.)\n",
    "a = torch.arange(1., 5.)\n",
    "t29 = torch.pow(a, exp)\n",
    "print(t29)"
   ]
  },
  {
   "cell_type": "markdown",
   "id": "d4743e7c",
   "metadata": {},
   "source": [
    "## j_tensor_indexing_slicing.py"
   ]
  },
  {
   "cell_type": "code",
   "execution_count": 137,
   "id": "a46372b3",
   "metadata": {},
   "outputs": [],
   "source": [
    "import torch"
   ]
  },
  {
   "cell_type": "code",
   "execution_count": 139,
   "id": "b4baa255",
   "metadata": {},
   "outputs": [],
   "source": [
    "x = torch.tensor(\n",
    "[[0, 1, 2, 3, 4],\n",
    "[5, 6, 7, 8, 9],\n",
    "[10, 11, 12, 13, 14]]\n",
    ")"
   ]
  },
  {
   "cell_type": "code",
   "execution_count": 141,
   "id": "bb31a020",
   "metadata": {},
   "outputs": [
    {
     "name": "stdout",
     "output_type": "stream",
     "text": [
      "tensor([5, 6, 7, 8, 9])\n",
      "tensor([ 1,  6, 11])\n",
      "tensor(7)\n",
      "tensor([ 4,  9, 14])\n"
     ]
    }
   ],
   "source": [
    "print(x[1]) # x의 1번 인덱스 접근\n",
    "print(x[:, 1]) # x의 모든 인덱스의 1번 인덱스 접근\n",
    "print(x[1, 2]) # x의 1번 인덱스의 2번 인덱스 접근\n",
    "print(x[:, -1]) # x의 모든 인덱스의 가장 마지막 인덱스 접근"
   ]
  },
  {
   "cell_type": "code",
   "execution_count": 143,
   "id": "4dcfcfaa",
   "metadata": {},
   "outputs": [
    {
     "name": "stdout",
     "output_type": "stream",
     "text": [
      "tensor([[ 5,  6,  7,  8,  9],\n",
      "        [10, 11, 12, 13, 14]])\n",
      "tensor([[ 8,  9],\n",
      "        [13, 14]])\n"
     ]
    }
   ],
   "source": [
    "print(x[1:]) # x의 1번 인덱스부터 마지막 인덱스까지 접근\n",
    "print(x[1:, 3:]) # x의 1번 인덱스부터 마지막 인덱스의 3번인덱스부터 마지막 인덱스 까지 접근"
   ]
  },
  {
   "cell_type": "code",
   "execution_count": 145,
   "id": "5c5789f3",
   "metadata": {},
   "outputs": [],
   "source": [
    "y = torch.zeros((6, 6))"
   ]
  },
  {
   "cell_type": "code",
   "execution_count": 147,
   "id": "b704f0dd",
   "metadata": {},
   "outputs": [
    {
     "name": "stdout",
     "output_type": "stream",
     "text": [
      "tensor([[0., 0., 0., 0., 0., 0.],\n",
      "        [0., 0., 1., 0., 0., 0.],\n",
      "        [0., 0., 1., 0., 0., 0.],\n",
      "        [0., 0., 1., 0., 0., 0.],\n",
      "        [0., 0., 0., 0., 0., 0.],\n",
      "        [0., 0., 0., 0., 0., 0.]])\n"
     ]
    }
   ],
   "source": [
    "y[1:4, 2] = 1 # y의 1번 인덱스부터 3번 인덱스의 2번 인덱스에 1을 대입한다.\n",
    "print(y)"
   ]
  },
  {
   "cell_type": "code",
   "execution_count": 150,
   "id": "22754f0f",
   "metadata": {},
   "outputs": [
    {
     "name": "stdout",
     "output_type": "stream",
     "text": [
      "tensor([[0., 1., 0.],\n",
      "        [0., 1., 0.],\n",
      "        [0., 1., 0.]])\n"
     ]
    }
   ],
   "source": [
    "print(y[1:4, 1:4]) # y의 1번 인덱스부터 3번 인덱스의 1번 인덱스부터 3번 인덱스에 접근한다."
   ]
  },
  {
   "cell_type": "code",
   "execution_count": 152,
   "id": "dc7df14e",
   "metadata": {},
   "outputs": [],
   "source": [
    "z = torch.tensor(\n",
    "[[1, 2, 3, 4],\n",
    "[2, 3, 4, 5],\n",
    "[5, 6, 7, 8]]\n",
    ")"
   ]
  },
  {
   "cell_type": "code",
   "execution_count": 154,
   "id": "016d7389",
   "metadata": {},
   "outputs": [
    {
     "name": "stdout",
     "output_type": "stream",
     "text": [
      "tensor([[1, 2, 3, 4],\n",
      "        [2, 3, 4, 5]])\n",
      "tensor([[3, 4],\n",
      "        [6, 7]])\n",
      "tensor([[2, 3, 4],\n",
      "        [3, 4, 5],\n",
      "        [6, 7, 8]])\n"
     ]
    }
   ],
   "source": [
    "print(z[:2]) # z의 맨 첫 인덱스부터 1번 인덱스까지 접근한다\n",
    "print(z[1:, 1:3]) # z의 1번 인덱스부터 마지막 인덱스의 1번 인덱스부터 2번 인덱스에 접근한다\n",
    "print(z[:, 1:]) # z의 모든 인덱스의 1번 인덱스부터 마지막 인덱스까지 접근한다."
   ]
  },
  {
   "cell_type": "code",
   "execution_count": 156,
   "id": "1c6b1d86",
   "metadata": {},
   "outputs": [
    {
     "name": "stdout",
     "output_type": "stream",
     "text": [
      "tensor([[1, 2, 3, 4],\n",
      "        [2, 0, 0, 5],\n",
      "        [5, 0, 0, 8]])\n"
     ]
    }
   ],
   "source": [
    "z[1:, 1:3] = 0 # z의 1번 인덱스부터 마지막 인덱스의 1번 인덱스부터 2번 인덱스에 0을 대입한다.\n",
    "print(z)"
   ]
  },
  {
   "cell_type": "markdown",
   "id": "d2ec6b67",
   "metadata": {},
   "source": [
    "## k_tensor_reshaping.py"
   ]
  },
  {
   "cell_type": "code",
   "execution_count": 157,
   "id": "cea6988c",
   "metadata": {},
   "outputs": [],
   "source": [
    "import torch"
   ]
  },
  {
   "cell_type": "code",
   "execution_count": 159,
   "id": "afefbf7a",
   "metadata": {},
   "outputs": [
    {
     "name": "stdout",
     "output_type": "stream",
     "text": [
      "tensor([[1, 2],\n",
      "        [3, 4],\n",
      "        [5, 6]])\n",
      "tensor([[1, 2, 3, 4, 5, 6]])\n"
     ]
    }
   ],
   "source": [
    "t1 = torch.tensor([[1, 2, 3], [4, 5, 6]])\n",
    "t2 = t1.view(3, 2) # 변환하려는 텐서의 실제 메모리 위치가 이용됨\n",
    "t3 = t1.reshape(1, 6) # 완전히 모양을 바꿔줌\n",
    "\n",
    "print(t2)\n",
    "print(t3)"
   ]
  },
  {
   "cell_type": "code",
   "execution_count": 161,
   "id": "1c0cb8b8",
   "metadata": {},
   "outputs": [
    {
     "name": "stdout",
     "output_type": "stream",
     "text": [
      "tensor([[0, 1, 2, 3],\n",
      "        [4, 5, 6, 7]])\n",
      "tensor([[0, 1, 2],\n",
      "        [3, 4, 5]])\n"
     ]
    }
   ],
   "source": [
    "t4 = torch.arange(8).view(2, 4) # shape이 (1, 8)에서 (2, 4)로 변함\n",
    "t5 = torch.arange(6).view(2, 3) # shape이 (1, 6)에서 (2, 3)으로 변함\n",
    "\n",
    "print(t4)\n",
    "print(t5)"
   ]
  },
  {
   "cell_type": "code",
   "execution_count": 164,
   "id": "70636586",
   "metadata": {},
   "outputs": [
    {
     "name": "stdout",
     "output_type": "stream",
     "text": [
      "tensor([1, 2, 3])\n",
      "tensor([[1],\n",
      "        [2],\n",
      "        [3]])\n"
     ]
    }
   ],
   "source": [
    "t6 = torch.tensor([[[1], [2], [3]]])\n",
    "t7 = t6.squeeze() # 모든 차원을 지우고 1로 만든다\n",
    "t8 = t6.squeeze(0) # 해당 인덱스의 차원을 지운다\n",
    "\n",
    "print(t7)\n",
    "print(t8)"
   ]
  },
  {
   "cell_type": "code",
   "execution_count": 167,
   "id": "e816e525",
   "metadata": {},
   "outputs": [
    {
     "name": "stdout",
     "output_type": "stream",
     "text": [
      "tensor([[1],\n",
      "        [2],\n",
      "        [3]])\n"
     ]
    }
   ],
   "source": [
    "t9 = torch.tensor([1, 2, 3])\n",
    "t10 = t9.unsqueeze(1) # 1번 인덱스에 새로운 차원을 만든다\n",
    "\n",
    "print(t10)"
   ]
  },
  {
   "cell_type": "code",
   "execution_count": 170,
   "id": "52c09e7a",
   "metadata": {},
   "outputs": [
    {
     "name": "stdout",
     "output_type": "stream",
     "text": [
      "tensor([[[1, 2, 3]],\n",
      "\n",
      "        [[4, 5, 6]]]) torch.Size([2, 1, 3])\n"
     ]
    }
   ],
   "source": [
    "t11 = torch.tensor(\n",
    "[[1, 2, 3],\n",
    "[4, 5, 6]]\n",
    ")\n",
    "t12 = t11.unsqueeze(1) # shape이 (2, 1, 3)이 된다\n",
    "\n",
    "print(t12, t12.shape)"
   ]
  },
  {
   "cell_type": "code",
   "execution_count": 171,
   "id": "140707ae",
   "metadata": {},
   "outputs": [
    {
     "name": "stdout",
     "output_type": "stream",
     "text": [
      "tensor([1, 2, 3, 4, 5, 6])\n"
     ]
    }
   ],
   "source": [
    "t13 = torch.tensor([[1, 2, 3], [4, 5, 6]])\n",
    "t14 = t13.flatten() # 1개의 차원으로 만든다.\n",
    "\n",
    "print(t14)"
   ]
  },
  {
   "cell_type": "code",
   "execution_count": 173,
   "id": "be079d26",
   "metadata": {},
   "outputs": [
    {
     "name": "stdout",
     "output_type": "stream",
     "text": [
      "tensor([1, 2, 3, 4, 5, 6, 7, 8])\n",
      "tensor([[1, 2, 3, 4],\n",
      "        [5, 6, 7, 8]])\n"
     ]
    }
   ],
   "source": [
    "t15 = torch.tensor([[[1, 2],\n",
    "                    [3, 4]],\n",
    "                    [[5, 6],\n",
    "                     [7, 8]]])\n",
    "t16 = torch.flatten(t15)\n",
    "t17 = torch.flatten(t15, start_dim = 1) # 1번째 차원부터 flatten을 진행한다\n",
    "\n",
    "print(t16)\n",
    "print(t17)"
   ]
  },
  {
   "cell_type": "code",
   "execution_count": 175,
   "id": "98539266",
   "metadata": {},
   "outputs": [
    {
     "name": "stdout",
     "output_type": "stream",
     "text": [
      "torch.Size([2, 3, 5])\n",
      "torch.Size([5, 2, 3])\n"
     ]
    }
   ],
   "source": [
    "t18 = torch.randn(2, 3, 5)\n",
    "print(t18.shape)\n",
    "print(torch.permute(t18, (2, 0, 1)).size()) # t18의 dim을 주어진 인덱스 순으로 재배치한다."
   ]
  },
  {
   "cell_type": "code",
   "execution_count": 177,
   "id": "a65e21e1",
   "metadata": {},
   "outputs": [
    {
     "name": "stdout",
     "output_type": "stream",
     "text": [
      "tensor([[1, 2, 3],\n",
      "        [4, 5, 6]])\n",
      "tensor([[1, 4],\n",
      "        [2, 5],\n",
      "        [3, 6]])\n"
     ]
    }
   ],
   "source": [
    "t19 = torch.tensor([[1, 2, 3], [4, 5, 6]])\n",
    "t20 = torch.permute(t19, dims=(0, 1)) # 0번 dim과 1번 dim을 순서배로 배치한다\n",
    "t21 = torch.permute(t19, dims=(1, 0)) # 0번 dim과 1번 dim을 역순으로 배치한다\n",
    "\n",
    "print(t20) # shape = (2, 3)\n",
    "print(t21) # shape = (3, 2)"
   ]
  },
  {
   "cell_type": "code",
   "execution_count": 179,
   "id": "289e8687",
   "metadata": {},
   "outputs": [
    {
     "name": "stdout",
     "output_type": "stream",
     "text": [
      "tensor([[1, 4],\n",
      "        [2, 5],\n",
      "        [3, 6]])\n"
     ]
    }
   ],
   "source": [
    "t22 = torch.transpose(t19, 0, 1) # tensor의 해당 dim을 교환한다.\n",
    "print(t22)"
   ]
  },
  {
   "cell_type": "code",
   "execution_count": 181,
   "id": "ec81f941",
   "metadata": {},
   "outputs": [
    {
     "name": "stdout",
     "output_type": "stream",
     "text": [
      "tensor([[1, 4],\n",
      "        [2, 5],\n",
      "        [3, 6]])\n"
     ]
    }
   ],
   "source": [
    "t23 = torch.t(t19) # transpose와 동일하다\n",
    "print(t23)"
   ]
  },
  {
   "cell_type": "markdown",
   "id": "32f4163a",
   "metadata": {},
   "source": [
    "## i_tensor_concat.py"
   ]
  },
  {
   "cell_type": "code",
   "execution_count": 182,
   "id": "9f62430b",
   "metadata": {},
   "outputs": [],
   "source": [
    "import torch"
   ]
  },
  {
   "cell_type": "code",
   "execution_count": 186,
   "id": "8b6b8757",
   "metadata": {},
   "outputs": [
    {
     "name": "stdout",
     "output_type": "stream",
     "text": [
      "torch.Size([2, 6, 3])\n"
     ]
    }
   ],
   "source": [
    "t1 = torch.zeros([2, 1, 3])\n",
    "t2 = torch.zeros([2, 3, 3])\n",
    "t3 = torch.zeros([2, 2, 3])\n",
    "t4 = torch.cat([t1, t2, t3], dim = 1) # 1번 dim 방향으로 텐서를 쌓아올린다.\n",
    "\n",
    "print(t4.shape)"
   ]
  },
  {
   "cell_type": "code",
   "execution_count": 188,
   "id": "b479bcf2",
   "metadata": {},
   "outputs": [
    {
     "name": "stdout",
     "output_type": "stream",
     "text": [
      "torch.Size([8])\n",
      "tensor([0, 1, 2, 3, 4, 5, 6, 7])\n"
     ]
    }
   ],
   "source": [
    "t5 = torch.arange(0, 3) # [0, 1, 2]\n",
    "t6 = torch.arange(3, 8) # [3, 4, 5, 6, 7]\n",
    "t7 = torch.cat((t5, t6), dim = 0) # 0번 dim 방향으로 텐서를 쌓아올린다.\n",
    "\n",
    "print(t7.shape)\n",
    "print(t7)"
   ]
  },
  {
   "cell_type": "code",
   "execution_count": 191,
   "id": "873f8344",
   "metadata": {},
   "outputs": [
    {
     "name": "stdout",
     "output_type": "stream",
     "text": [
      "torch.Size([4, 3])\n",
      "tensor([[ 0,  1,  2],\n",
      "        [ 3,  4,  5],\n",
      "        [ 6,  7,  8],\n",
      "        [ 9, 10, 11]])\n"
     ]
    }
   ],
   "source": [
    "t8 = torch.arange(0, 6).reshape(2, 3)\n",
    "t9 = torch.arange(6, 12).reshape(2, 3)\n",
    "t10 = torch.cat((t8, t9), dim = 0) # 0번 dim 방향으로 텐서를 쌓아올린다.\n",
    "\n",
    "print(t10.size())\n",
    "print(t10)"
   ]
  },
  {
   "cell_type": "code",
   "execution_count": 193,
   "id": "b7984be6",
   "metadata": {},
   "outputs": [
    {
     "name": "stdout",
     "output_type": "stream",
     "text": [
      "torch.Size([2, 6])\n",
      "tensor([[ 0,  1,  2,  6,  7,  8],\n",
      "        [ 3,  4,  5,  9, 10, 11]])\n"
     ]
    }
   ],
   "source": [
    "t11 = torch.cat((t8, t9), dim = 1) # 1번 dim 방향으로 텐서를 쌓아올린다.\n",
    "print(t11.size())\n",
    "print(t11)"
   ]
  },
  {
   "cell_type": "code",
   "execution_count": 195,
   "id": "c81b9ce2",
   "metadata": {},
   "outputs": [
    {
     "name": "stdout",
     "output_type": "stream",
     "text": [
      "torch.Size([6, 3])\n",
      "tensor([[ 0,  1,  2],\n",
      "        [ 3,  4,  5],\n",
      "        [ 6,  7,  8],\n",
      "        [ 9, 10, 11],\n",
      "        [12, 13, 14],\n",
      "        [15, 16, 17]])\n"
     ]
    }
   ],
   "source": [
    "t12 = torch.arange(0, 6).reshape(2, 3)\n",
    "t13 = torch.arange(6, 12).reshape(2, 3)\n",
    "t14 = torch.arange(12, 18).reshape(2, 3)\n",
    "t15 = torch.cat((t12, t13, t14), dim = 0) # 0번 dim 방향으로 텐서를 쌓아올린다.\n",
    "\n",
    "print(t15.size())\n",
    "print(t15)"
   ]
  },
  {
   "cell_type": "code",
   "execution_count": 197,
   "id": "dab6c840",
   "metadata": {},
   "outputs": [
    {
     "name": "stdout",
     "output_type": "stream",
     "text": [
      "torch.Size([2, 9])\n",
      "tensor([[ 0,  1,  2,  6,  7,  8, 12, 13, 14],\n",
      "        [ 3,  4,  5,  9, 10, 11, 15, 16, 17]])\n"
     ]
    }
   ],
   "source": [
    "t16 = torch.cat((t12, t13, t14), dim = 1)\n",
    "print(t16.size())\n",
    "print(t16)"
   ]
  },
  {
   "cell_type": "code",
   "execution_count": 199,
   "id": "01fe5497",
   "metadata": {},
   "outputs": [
    {
     "name": "stdout",
     "output_type": "stream",
     "text": [
      "torch.Size([2, 2, 3])\n",
      "tensor([[[ 0,  1,  2],\n",
      "         [ 3,  4,  5]],\n",
      "\n",
      "        [[ 6,  7,  8],\n",
      "         [ 9, 10, 11]]])\n",
      "torch.Size([2, 2, 3])\n",
      "tensor([[[ 0,  1,  2],\n",
      "         [ 3,  4,  5]],\n",
      "\n",
      "        [[ 6,  7,  8],\n",
      "         [ 9, 10, 11]]])\n",
      "torch.Size([2, 2, 3])\n",
      "tensor([[[ 0,  1,  2],\n",
      "         [ 3,  4,  5]],\n",
      "\n",
      "        [[ 6,  7,  8],\n",
      "         [ 9, 10, 11]]])\n"
     ]
    }
   ],
   "source": [
    "t17 = torch.arange(0, 6).reshape(1, 2, 3)\n",
    "t18 = torch.arange(6, 12).reshape(1, 2, 3)\n",
    "t19 = torch.cat((t17, t18), dim = 0)\n",
    "t20 = torch.cat((t17, t18), dim = 0)\n",
    "t21 = torch.cat((t17, t18), dim = 0)\n",
    "\n",
    "print(t19.size())\n",
    "print(t19)\n",
    "\n",
    "print(t20.size())\n",
    "print(t20)\n",
    "\n",
    "print(t21.size())\n",
    "print(t21)"
   ]
  },
  {
   "cell_type": "markdown",
   "id": "2b6b2996",
   "metadata": {},
   "source": [
    "## m_tensor_stacking.py"
   ]
  },
  {
   "cell_type": "code",
   "execution_count": 200,
   "id": "9547b94b",
   "metadata": {},
   "outputs": [],
   "source": [
    "import torch"
   ]
  },
  {
   "cell_type": "code",
   "execution_count": 202,
   "id": "929d0052",
   "metadata": {},
   "outputs": [
    {
     "name": "stdout",
     "output_type": "stream",
     "text": [
      "torch.Size([2, 2, 3]) True\n"
     ]
    }
   ],
   "source": [
    "t1 = torch.tensor([[1, 2, 3], [4, 5, 6]])\n",
    "t2 = torch.tensor([[7, 8, 9], [10, 11, 12]])\n",
    "t3 = torch.stack([t1, t2], dim = 0) # 0번째에 새로운 dim을 만들어 새로운 dim에서 차곡차곡 쌓아올린다. 두 tensor의 shape이 같아야한다.\n",
    "t4 = torch.cat([t1.unsqueeze(dim=0), t2.unsqueeze(dim=0)], dim=0)\n",
    "\n",
    "print(t3.shape, t3.equal(t4))"
   ]
  },
  {
   "cell_type": "code",
   "execution_count": 204,
   "id": "7d318cd9",
   "metadata": {},
   "outputs": [
    {
     "name": "stdout",
     "output_type": "stream",
     "text": [
      "torch.Size([2, 2, 3]) True\n"
     ]
    }
   ],
   "source": [
    "t5 = torch.stack([t1, t2], dim = 1)\n",
    "t6 = torch.cat([t1.unsqueeze(dim=1), t2.unsqueeze(dim=1)], dim=1)\n",
    "print(t5.shape, t5.equal(t6))"
   ]
  },
  {
   "cell_type": "code",
   "execution_count": 206,
   "id": "0812f1d9",
   "metadata": {},
   "outputs": [
    {
     "name": "stdout",
     "output_type": "stream",
     "text": [
      "torch.Size([2, 3, 2]) True\n"
     ]
    }
   ],
   "source": [
    "t7 = torch.stack([t1, t2], dim=2)\n",
    "t8 = torch.cat([t1.unsqueeze(dim=2), t2.unsqueeze(dim=2)], dim=2)\n",
    "print(t7.shape, t7.equal(t8))"
   ]
  },
  {
   "cell_type": "code",
   "execution_count": 208,
   "id": "f0d19506",
   "metadata": {},
   "outputs": [
    {
     "name": "stdout",
     "output_type": "stream",
     "text": [
      "torch.Size([3]) torch.Size([3])\n"
     ]
    }
   ],
   "source": [
    "t9 = torch.arange(0, 3)\n",
    "t10 = torch.arange(3, 6)\n",
    "print(t9.size(), t10.size())"
   ]
  },
  {
   "cell_type": "code",
   "execution_count": 210,
   "id": "a0786a55",
   "metadata": {},
   "outputs": [
    {
     "name": "stdout",
     "output_type": "stream",
     "text": [
      "torch.Size([2, 3])\n",
      "tensor([[0, 1, 2],\n",
      "        [3, 4, 5]])\n"
     ]
    }
   ],
   "source": [
    "t11 = torch.stack((t9, t10), dim = 0)\n",
    "print(t11.size())\n",
    "print(t11)"
   ]
  },
  {
   "cell_type": "code",
   "execution_count": 212,
   "id": "dae69016",
   "metadata": {},
   "outputs": [
    {
     "name": "stdout",
     "output_type": "stream",
     "text": [
      "True\n"
     ]
    }
   ],
   "source": [
    "t12 = torch.cat((t9.unsqueeze(0), t10.unsqueeze(0)), dim=0)\n",
    "print(t11.equal(t12))"
   ]
  },
  {
   "cell_type": "code",
   "execution_count": 213,
   "id": "9e69a2bc",
   "metadata": {},
   "outputs": [
    {
     "name": "stdout",
     "output_type": "stream",
     "text": [
      "torch.Size([3, 2])\n",
      "tensor([[0, 3],\n",
      "        [1, 4],\n",
      "        [2, 5]])\n"
     ]
    }
   ],
   "source": [
    "t13 = torch.stack((t9, t10), dim=1)\n",
    "print(t13.size())\n",
    "print(t13)"
   ]
  },
  {
   "cell_type": "code",
   "execution_count": 214,
   "id": "1225d886",
   "metadata": {},
   "outputs": [
    {
     "name": "stdout",
     "output_type": "stream",
     "text": [
      "True\n"
     ]
    }
   ],
   "source": [
    "t14 = torch.cat((t9.unsqueeze(1), t10.unsqueeze(1)), dim = 1)\n",
    "print(t13.equal(t14))"
   ]
  },
  {
   "cell_type": "markdown",
   "id": "2bdf2512",
   "metadata": {},
   "source": [
    "## n_tensor_vstack_hstack.py"
   ]
  },
  {
   "cell_type": "code",
   "execution_count": 215,
   "id": "dd1793e2",
   "metadata": {},
   "outputs": [],
   "source": [
    "import torch"
   ]
  },
  {
   "cell_type": "code",
   "execution_count": 217,
   "id": "ffc51c0f",
   "metadata": {},
   "outputs": [
    {
     "name": "stdout",
     "output_type": "stream",
     "text": [
      "tensor([[1, 2, 3],\n",
      "        [4, 5, 6]])\n"
     ]
    }
   ],
   "source": [
    "t1 = torch.tensor([1, 2, 3])\n",
    "t2 = torch.tensor([4, 5, 6])\n",
    "t3 = torch.vstack((t1, t2)) # tensor를 세로로(행 단위로) 쌓아올린다.\n",
    "print(t3)"
   ]
  },
  {
   "cell_type": "code",
   "execution_count": 219,
   "id": "339a7b13",
   "metadata": {},
   "outputs": [
    {
     "name": "stdout",
     "output_type": "stream",
     "text": [
      "tensor([[1],\n",
      "        [2],\n",
      "        [3],\n",
      "        [4],\n",
      "        [5],\n",
      "        [6]])\n"
     ]
    }
   ],
   "source": [
    "t4 = torch.tensor([[1], [2], [3]])\n",
    "t5 = torch.tensor([[4], [5], [6]])\n",
    "t6 = torch.vstack((t4, t5)) # tensor를 세로로 쌓아올린다\n",
    "\n",
    "print(t6)"
   ]
  },
  {
   "cell_type": "code",
   "execution_count": 220,
   "id": "66d4876d",
   "metadata": {},
   "outputs": [
    {
     "name": "stdout",
     "output_type": "stream",
     "text": [
      "torch.Size([2, 2, 3])\n"
     ]
    }
   ],
   "source": [
    "t7 = torch.tensor([\n",
    "    [[1, 2, 3], [4, 5, 6]],\n",
    "    [[7, 8, 9], [10, 11, 12]]\n",
    "])\n",
    "print(t7.shape)"
   ]
  },
  {
   "cell_type": "code",
   "execution_count": 221,
   "id": "26f3becf",
   "metadata": {},
   "outputs": [
    {
     "name": "stdout",
     "output_type": "stream",
     "text": [
      "torch.Size([2, 2, 3])\n"
     ]
    }
   ],
   "source": [
    "t8 = torch.tensor([\n",
    "    [[13, 14, 15], [16, 17, 18]],\n",
    "    [[19, 20, 21], [22, 23, 24]]\n",
    "])\n",
    "print(t8.shape)"
   ]
  },
  {
   "cell_type": "code",
   "execution_count": 222,
   "id": "d7a5334c",
   "metadata": {},
   "outputs": [
    {
     "name": "stdout",
     "output_type": "stream",
     "text": [
      "tensor([[[ 1,  2,  3],\n",
      "         [ 4,  5,  6]],\n",
      "\n",
      "        [[ 7,  8,  9],\n",
      "         [10, 11, 12]],\n",
      "\n",
      "        [[13, 14, 15],\n",
      "         [16, 17, 18]],\n",
      "\n",
      "        [[19, 20, 21],\n",
      "         [22, 23, 24]]])\n",
      "torch.Size([4, 2, 3])\n"
     ]
    }
   ],
   "source": [
    "t9 = torch.vstack([t7, t8])\n",
    "print(t9)\n",
    "print(t9.shape)"
   ]
  },
  {
   "cell_type": "code",
   "execution_count": 224,
   "id": "41d2fb3c",
   "metadata": {},
   "outputs": [
    {
     "name": "stdout",
     "output_type": "stream",
     "text": [
      "tensor([1, 2, 3, 4, 5, 6])\n"
     ]
    }
   ],
   "source": [
    "t10 = torch.tensor([1, 2, 3])\n",
    "t11 = torch.tensor([4, 5, 6])\n",
    "t12 = torch.hstack((t10, t11)) # tensor를 가로로(열 단위로) 쌓아올린다.\n",
    "print(t12)"
   ]
  },
  {
   "cell_type": "code",
   "execution_count": 226,
   "id": "784325f9",
   "metadata": {},
   "outputs": [
    {
     "name": "stdout",
     "output_type": "stream",
     "text": [
      "tensor([[1, 4],\n",
      "        [2, 5],\n",
      "        [3, 6]])\n"
     ]
    }
   ],
   "source": [
    "t13 = torch.tensor([[1], [2], [3]])\n",
    "t14 = torch.tensor([[4], [5], [6]]) # tensor를 가로로 쌓아올린다.\n",
    "t15 = torch.hstack((t13, t14))\n",
    "print(t15)"
   ]
  },
  {
   "cell_type": "code",
   "execution_count": 227,
   "id": "0779d028",
   "metadata": {},
   "outputs": [
    {
     "name": "stdout",
     "output_type": "stream",
     "text": [
      "torch.Size([2, 2, 3])\n"
     ]
    }
   ],
   "source": [
    "t16 = torch.tensor([\n",
    "    [[1, 2, 3], [4, 5, 6]],\n",
    "    [[7, 8, 9], [10, 11, 12]]\n",
    "])\n",
    "print(t16.shape)"
   ]
  },
  {
   "cell_type": "code",
   "execution_count": 228,
   "id": "3802d53e",
   "metadata": {},
   "outputs": [
    {
     "name": "stdout",
     "output_type": "stream",
     "text": [
      "tensor([[[13, 14, 15],\n",
      "         [16, 17, 18]],\n",
      "\n",
      "        [[19, 20, 21],\n",
      "         [22, 23, 24]]])\n"
     ]
    }
   ],
   "source": [
    "t17 = torch.tensor([\n",
    "    [[13, 14, 15], [16, 17, 18]],\n",
    "    [[19, 20, 21], [22, 23, 24]]\n",
    "])\n",
    "print(t17)"
   ]
  },
  {
   "cell_type": "code",
   "execution_count": 230,
   "id": "872d6f63",
   "metadata": {},
   "outputs": [
    {
     "name": "stdout",
     "output_type": "stream",
     "text": [
      "tensor([[[ 1,  2,  3],\n",
      "         [ 4,  5,  6],\n",
      "         [13, 14, 15],\n",
      "         [16, 17, 18]],\n",
      "\n",
      "        [[ 7,  8,  9],\n",
      "         [10, 11, 12],\n",
      "         [19, 20, 21],\n",
      "         [22, 23, 24]]])\n"
     ]
    }
   ],
   "source": [
    "t18 = torch.hstack([t16, t17]) # 열 단위로 쌓인다.\n",
    "print(t18)"
   ]
  },
  {
   "cell_type": "markdown",
   "id": "b5c02b7b",
   "metadata": {},
   "source": [
    "#### 기술 고찰\n",
    "\n",
    "```python\n",
    "pycharm IDE와 jupyter notebook을 잘 사용하지 않았어서 처음 실습할 때, 실습환경 설정이나 코드 실행 등 여러 부분에서 불편하고 익숙하지 않았었는데, 교수님의 조언대로 단축키를 외우고 활용하며 사용해보니 굉장히 편하게 코딩할 수 있었다.\n",
    "```"
   ]
  },
  {
   "cell_type": "markdown",
   "id": "3e46cc7d",
   "metadata": {},
   "source": [
    "#### 숙제 후기\n",
    "\n",
    "```python\n",
    "tensor의 기초부터 모든 기능에 대한 예제가 나와있고, 이를 하나하나 따라하며 공부할 수 있어서 좋았다.\n",
    "\n",
    "비슷한 기능이라도 수업시간에 교수님께서 자세히 설명해주셔서 차이점을 공부하는데 어렵지 않았다.\n",
    "```"
   ]
  }
 ],
 "metadata": {
  "kernelspec": {
   "display_name": "Python 3 (ipykernel)",
   "language": "python",
   "name": "python3"
  },
  "language_info": {
   "codemirror_mode": {
    "name": "ipython",
    "version": 3
   },
   "file_extension": ".py",
   "mimetype": "text/x-python",
   "name": "python",
   "nbconvert_exporter": "python",
   "pygments_lexer": "ipython3",
   "version": "3.9.13"
  }
 },
 "nbformat": 4,
 "nbformat_minor": 5
}
